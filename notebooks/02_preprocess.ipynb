{
  "cells": [
    {
      "cell_type": "markdown",
      "id": "364f7e13",
      "metadata": {},
      "source": [
        "# 02 · Preprocessing Pipeline\n",
        "Este cuaderno replica la limpieza de datos directamente con funciones locales para dejar el dataset listo para modelado.\n"
      ]
    },
    {
      "cell_type": "code",
      "execution_count": 1,
      "id": "6a9b3451",
      "metadata": {},
      "outputs": [],
      "source": [
        "from pathlib import Path\n",
        "import re\n",
        "\n",
        "import numpy as np\n",
        "import pandas as pd\n",
        "import yaml\n"
      ]
    },
    {
      "cell_type": "markdown",
      "id": "debde61c",
      "metadata": {},
      "source": [
        "## Configuración\n",
        "Leemos los parámetros del YAML del proyecto y resolvemos rutas relevantes.\n"
      ]
    },
    {
      "cell_type": "code",
      "execution_count": 2,
      "id": "75633aef",
      "metadata": {},
      "outputs": [
        {
          "name": "stdout",
          "output_type": "stream",
          "text": [
            "RAW: /Users/jfts/Documents/ML_OPS_PROYECT/mlops_proyect/data/enriched/insurance_company_enriched.csv\n",
            "INTERIM: /Users/jfts/Documents/ML_OPS_PROYECT/mlops_proyect/data/interim/data_clean.parquet\n"
          ]
        }
      ],
      "source": [
        "project_root = Path('..').resolve()\n",
        "params_path = project_root / 'config' / 'params.yaml'\n",
        "params = yaml.safe_load(params_path.read_text())\n",
        "\n",
        "raw_path = (project_root / 'data' / 'enriched' / 'insurance_company_enriched.csv').resolve()\n",
        "interim_rel = params['paths']['interim']\n",
        "interim_path = (project_root / interim_rel).resolve()\n",
        "interim_path.parent.mkdir(parents=True, exist_ok=True)\n",
        "\n",
        "print('RAW:', raw_path)\n",
        "print('INTERIM:', interim_path)\n"
      ]
    },
    {
      "cell_type": "markdown",
      "id": "a00da19d",
      "metadata": {},
      "source": [
        "## Limpieza\n",
        "Implementamos la rutina de preparación directamente en este cuaderno (sin depender de `src/`).\n"
      ]
    },
    {
      "cell_type": "code",
      "execution_count": 3,
      "id": "394342a9",
      "metadata": {},
      "outputs": [
        {
          "name": "stdout",
          "output_type": "stream",
          "text": [
            "(5937, 96) → (5937, 96)\n"
          ]
        },
        {
          "data": {
            "application/vnd.microsoft.datawrangler.viewer.v0+json": {
              "columns": [
                {
                  "name": "index",
                  "rawType": "int64",
                  "type": "integer"
                },
                {
                  "name": "mostype",
                  "rawType": "float64",
                  "type": "float"
                },
                {
                  "name": "maanthui",
                  "rawType": "float64",
                  "type": "float"
                },
                {
                  "name": "mgemomv",
                  "rawType": "float64",
                  "type": "float"
                },
                {
                  "name": "mgemleef",
                  "rawType": "float64",
                  "type": "float"
                },
                {
                  "name": "moshoofd",
                  "rawType": "float64",
                  "type": "float"
                },
                {
                  "name": "mgodrk",
                  "rawType": "float64",
                  "type": "float"
                },
                {
                  "name": "mgodpr",
                  "rawType": "float64",
                  "type": "float"
                },
                {
                  "name": "mgodov",
                  "rawType": "float64",
                  "type": "float"
                },
                {
                  "name": "mgodge",
                  "rawType": "float64",
                  "type": "float"
                },
                {
                  "name": "mrelge",
                  "rawType": "float64",
                  "type": "float"
                },
                {
                  "name": "mrelsa",
                  "rawType": "float64",
                  "type": "float"
                },
                {
                  "name": "mrelov",
                  "rawType": "float64",
                  "type": "float"
                },
                {
                  "name": "mfalleen",
                  "rawType": "float64",
                  "type": "float"
                },
                {
                  "name": "mfgekind",
                  "rawType": "float64",
                  "type": "float"
                },
                {
                  "name": "mfwekind",
                  "rawType": "float64",
                  "type": "float"
                },
                {
                  "name": "moplhoog",
                  "rawType": "float64",
                  "type": "float"
                },
                {
                  "name": "moplmidd",
                  "rawType": "float64",
                  "type": "float"
                },
                {
                  "name": "mopllaag",
                  "rawType": "float64",
                  "type": "float"
                },
                {
                  "name": "mberhoog",
                  "rawType": "float64",
                  "type": "float"
                },
                {
                  "name": "mberzelf",
                  "rawType": "float64",
                  "type": "float"
                },
                {
                  "name": "mberboer",
                  "rawType": "float64",
                  "type": "float"
                },
                {
                  "name": "mbermidd",
                  "rawType": "float64",
                  "type": "float"
                },
                {
                  "name": "mberarbg",
                  "rawType": "float64",
                  "type": "float"
                },
                {
                  "name": "mberarbo",
                  "rawType": "float64",
                  "type": "float"
                },
                {
                  "name": "mska",
                  "rawType": "float64",
                  "type": "float"
                },
                {
                  "name": "mskb1",
                  "rawType": "float64",
                  "type": "float"
                },
                {
                  "name": "mskb2",
                  "rawType": "float64",
                  "type": "float"
                },
                {
                  "name": "mskc",
                  "rawType": "float64",
                  "type": "float"
                },
                {
                  "name": "mskd",
                  "rawType": "float64",
                  "type": "float"
                },
                {
                  "name": "mhhuur",
                  "rawType": "float64",
                  "type": "float"
                },
                {
                  "name": "mhkoop",
                  "rawType": "float64",
                  "type": "float"
                },
                {
                  "name": "maut1",
                  "rawType": "float64",
                  "type": "float"
                },
                {
                  "name": "maut2",
                  "rawType": "float64",
                  "type": "float"
                },
                {
                  "name": "maut0",
                  "rawType": "float64",
                  "type": "float"
                },
                {
                  "name": "mzfonds",
                  "rawType": "float64",
                  "type": "float"
                },
                {
                  "name": "mzpart",
                  "rawType": "float64",
                  "type": "float"
                },
                {
                  "name": "minkm30",
                  "rawType": "float64",
                  "type": "float"
                },
                {
                  "name": "mink3045",
                  "rawType": "float64",
                  "type": "float"
                },
                {
                  "name": "mink4575",
                  "rawType": "float64",
                  "type": "float"
                },
                {
                  "name": "mink7512",
                  "rawType": "float64",
                  "type": "float"
                },
                {
                  "name": "mink123m",
                  "rawType": "float64",
                  "type": "float"
                },
                {
                  "name": "minkgem",
                  "rawType": "float64",
                  "type": "float"
                },
                {
                  "name": "mkoopkla",
                  "rawType": "float64",
                  "type": "float"
                },
                {
                  "name": "pwapart",
                  "rawType": "float64",
                  "type": "float"
                },
                {
                  "name": "pwabedr",
                  "rawType": "float64",
                  "type": "float"
                },
                {
                  "name": "pwaland",
                  "rawType": "float64",
                  "type": "float"
                },
                {
                  "name": "ppersaut",
                  "rawType": "float64",
                  "type": "float"
                },
                {
                  "name": "pbesaut",
                  "rawType": "float64",
                  "type": "float"
                },
                {
                  "name": "pmotsco",
                  "rawType": "float64",
                  "type": "float"
                },
                {
                  "name": "pvraaut",
                  "rawType": "float64",
                  "type": "float"
                },
                {
                  "name": "paanhang",
                  "rawType": "float64",
                  "type": "float"
                },
                {
                  "name": "ptractor",
                  "rawType": "float64",
                  "type": "float"
                },
                {
                  "name": "pwerkt",
                  "rawType": "float64",
                  "type": "float"
                },
                {
                  "name": "pbrom",
                  "rawType": "float64",
                  "type": "float"
                },
                {
                  "name": "pleven",
                  "rawType": "float64",
                  "type": "float"
                },
                {
                  "name": "ppersong",
                  "rawType": "float64",
                  "type": "float"
                },
                {
                  "name": "pgezong",
                  "rawType": "float64",
                  "type": "float"
                },
                {
                  "name": "pwaoreg",
                  "rawType": "float64",
                  "type": "float"
                },
                {
                  "name": "pbrand",
                  "rawType": "float64",
                  "type": "float"
                },
                {
                  "name": "pzeilpl",
                  "rawType": "float64",
                  "type": "float"
                },
                {
                  "name": "pplezier",
                  "rawType": "float64",
                  "type": "float"
                },
                {
                  "name": "pfiets",
                  "rawType": "float64",
                  "type": "float"
                },
                {
                  "name": "pinboed",
                  "rawType": "float64",
                  "type": "float"
                },
                {
                  "name": "pbystand",
                  "rawType": "float64",
                  "type": "float"
                },
                {
                  "name": "awapart",
                  "rawType": "float64",
                  "type": "float"
                },
                {
                  "name": "awabedr",
                  "rawType": "float64",
                  "type": "float"
                },
                {
                  "name": "awaland",
                  "rawType": "float64",
                  "type": "float"
                },
                {
                  "name": "apersaut",
                  "rawType": "float64",
                  "type": "float"
                },
                {
                  "name": "abesaut",
                  "rawType": "float64",
                  "type": "float"
                },
                {
                  "name": "amotsco",
                  "rawType": "float64",
                  "type": "float"
                },
                {
                  "name": "avraaut",
                  "rawType": "float64",
                  "type": "float"
                },
                {
                  "name": "aaanhang",
                  "rawType": "float64",
                  "type": "float"
                },
                {
                  "name": "atractor",
                  "rawType": "float64",
                  "type": "float"
                },
                {
                  "name": "awerkt",
                  "rawType": "float64",
                  "type": "float"
                },
                {
                  "name": "abrom",
                  "rawType": "float64",
                  "type": "float"
                },
                {
                  "name": "aleven",
                  "rawType": "float64",
                  "type": "float"
                },
                {
                  "name": "apersong",
                  "rawType": "float64",
                  "type": "float"
                },
                {
                  "name": "agezong",
                  "rawType": "float64",
                  "type": "float"
                },
                {
                  "name": "awaoreg",
                  "rawType": "float64",
                  "type": "float"
                },
                {
                  "name": "abrand",
                  "rawType": "float64",
                  "type": "float"
                },
                {
                  "name": "azeilpl",
                  "rawType": "float64",
                  "type": "float"
                },
                {
                  "name": "aplezier",
                  "rawType": "float64",
                  "type": "float"
                },
                {
                  "name": "afiets",
                  "rawType": "float64",
                  "type": "float"
                },
                {
                  "name": "ainboed",
                  "rawType": "float64",
                  "type": "float"
                },
                {
                  "name": "abystand",
                  "rawType": "float64",
                  "type": "float"
                },
                {
                  "name": "caravan",
                  "rawType": "float64",
                  "type": "float"
                },
                {
                  "name": "mostype_label",
                  "rawType": "object",
                  "type": "string"
                },
                {
                  "name": "mgemleef_label",
                  "rawType": "object",
                  "type": "string"
                },
                {
                  "name": "moshoofd_label",
                  "rawType": "object",
                  "type": "string"
                },
                {
                  "name": "mgodrk_label",
                  "rawType": "object",
                  "type": "string"
                },
                {
                  "name": "mgodpr_label",
                  "rawType": "object",
                  "type": "string"
                },
                {
                  "name": "mgodov_label",
                  "rawType": "object",
                  "type": "unknown"
                },
                {
                  "name": "mgodge_label",
                  "rawType": "object",
                  "type": "string"
                },
                {
                  "name": "pwapart_label",
                  "rawType": "object",
                  "type": "string"
                },
                {
                  "name": "pwabedr_label",
                  "rawType": "object",
                  "type": "string"
                },
                {
                  "name": "pwaland_label",
                  "rawType": "object",
                  "type": "string"
                }
              ],
              "ref": "8b89ac87-95db-4eea-a9bd-65ac804fdc37",
              "rows": [
                [
                  "0",
                  "37.0",
                  "1.0",
                  "2.0",
                  "2.0",
                  "8.0",
                  "1.0",
                  "4.0",
                  null,
                  "4.0",
                  "6.0",
                  "2.0",
                  "2.0",
                  "0.0",
                  "4.0",
                  "5.0",
                  "0.0",
                  "5.0",
                  "4.0",
                  "0.0",
                  "0.0",
                  "0.0",
                  "5.0",
                  "0.0",
                  "4.0",
                  "0.0",
                  "2.0",
                  "3.0",
                  "5.0",
                  "0.0",
                  "2.0",
                  "7.0",
                  null,
                  "1.0",
                  "2.0",
                  "6.0",
                  "3.0",
                  "2.0",
                  "0.0",
                  "5.0",
                  "2.0",
                  "0.0",
                  "5.0",
                  "4.0",
                  "2.0",
                  "0.0",
                  "0.0",
                  "0.0",
                  "0.0",
                  "0.0",
                  "0.0",
                  "0.0",
                  "0.0",
                  "0.0",
                  "0.0",
                  "0.0",
                  "0.0",
                  "0.0",
                  "0.0",
                  "2.0",
                  "0.0",
                  "0.0",
                  "0.0",
                  "0.0",
                  "0.0",
                  "2.0",
                  "0.0",
                  "0.0",
                  "0.0",
                  "0.0",
                  "0.0",
                  "0.0",
                  "0.0",
                  "0.0",
                  "0.0",
                  "0.0",
                  "0.0",
                  "0.0",
                  "0.0",
                  "0.0",
                  "1.0",
                  null,
                  "0.0",
                  "0.0",
                  "0.0",
                  "0.0",
                  "0.0",
                  "Mixed small town dwellers",
                  "30-40 years",
                  "Family with grown ups",
                  "1 - 10%",
                  "37 - 49%",
                  null,
                  "37 - 49%",
                  "f 50 – 99",
                  "f 0",
                  "f 0"
                ],
                [
                  "1",
                  "37.0",
                  "1.0",
                  "2.0",
                  "2.0",
                  "8.0",
                  "0.0",
                  "4.0",
                  "2.0",
                  "4.0",
                  "3.0",
                  "2.0",
                  "4.0",
                  "4.0",
                  "4.0",
                  "2.0",
                  "0.0",
                  "5.0",
                  "4.0",
                  "0.0",
                  "0.0",
                  "0.0",
                  "7.0",
                  "0.0",
                  "2.0",
                  "0.0",
                  "5.0",
                  "0.0",
                  "4.0",
                  "0.0",
                  "7.0",
                  "2.0",
                  "7.0",
                  "0.0",
                  "2.0",
                  "9.0",
                  "0.0",
                  "4.0",
                  "5.0",
                  "0.0",
                  null,
                  "0.0",
                  "3.0",
                  "4.0",
                  "2.0",
                  "0.0",
                  "0.0",
                  "6.0",
                  "0.0",
                  "0.0",
                  "0.0",
                  "0.0",
                  "0.0",
                  "0.0",
                  "0.0",
                  "0.0",
                  "0.0",
                  "0.0",
                  "0.0",
                  "2.0",
                  "0.0",
                  "0.0",
                  "0.0",
                  "0.0",
                  "0.0",
                  "1.0",
                  "0.0",
                  "0.0",
                  "1.0",
                  "0.0",
                  "0.0",
                  "0.0",
                  "0.0",
                  "0.0",
                  "0.0",
                  "0.0",
                  "0.0",
                  "0.0",
                  "0.0",
                  "0.0",
                  "1.0",
                  "0.0",
                  "0.0",
                  "0.0",
                  "0.0",
                  "0.0",
                  "0.0",
                  "Mixed small town dwellers",
                  "30-40 years",
                  "Family with grown ups",
                  "0%",
                  "37 - 49%",
                  "11 - 23%",
                  "37 - 49%",
                  "f 50 – 99",
                  "f 0",
                  "f 0"
                ],
                [
                  "2",
                  "9.0",
                  "1.0",
                  "3.0",
                  "3.0",
                  "3.0",
                  "2.0",
                  "3.0",
                  "2.0",
                  "4.0",
                  "5.0",
                  "2.0",
                  "2.0",
                  "2.0",
                  "3.0",
                  "4.0",
                  "3.0",
                  "4.0",
                  "2.0",
                  "4.0",
                  "0.0",
                  "0.0",
                  "3.0",
                  "1.0",
                  "2.0",
                  "3.0",
                  "2.0",
                  "1.0",
                  "4.0",
                  "0.0",
                  "5.0",
                  "4.0",
                  "9.0",
                  "0.0",
                  "0.0",
                  "7.0",
                  "2.0",
                  "1.0",
                  "5.0",
                  "3.0",
                  "0.0",
                  "0.0",
                  "4.0",
                  "4.0",
                  "0.0",
                  "0.0",
                  "0.0",
                  "6.0",
                  "0.0",
                  "0.0",
                  "0.0",
                  "0.0",
                  "0.0",
                  null,
                  "0.0",
                  "0.0",
                  "0.0",
                  "0.0",
                  "0.0",
                  "2.0",
                  "0.0",
                  "0.0",
                  "0.0",
                  "0.0",
                  "0.0",
                  "0.0",
                  "0.0",
                  "0.0",
                  "1.0",
                  "0.0",
                  "0.0",
                  "0.0",
                  "0.0",
                  "0.0",
                  "0.0",
                  "0.0",
                  "0.0",
                  "0.0",
                  "0.0",
                  "0.0",
                  "1.0",
                  "0.0",
                  "0.0",
                  "0.0",
                  "0.0",
                  "0.0",
                  "0.0",
                  "Modern, complete families",
                  "40-50 years",
                  "Average Family",
                  "11 - 23%",
                  "24 - 36%",
                  "11 - 23%",
                  "37 - 49%",
                  "f 0",
                  "f 0",
                  "f 0"
                ],
                [
                  "3",
                  "40.0",
                  "1.0",
                  "4.0",
                  "2.0",
                  "10.0",
                  "1.0",
                  "4.0",
                  "1.0",
                  "4.0",
                  "7.0",
                  "1.0",
                  "2.0",
                  null,
                  "4.0",
                  "4.0",
                  "5.0",
                  "4.0",
                  "0.0",
                  "0.0",
                  "5.0",
                  "4.0",
                  "0.0",
                  "0.0",
                  "0.0",
                  "9.0",
                  "0.0",
                  "0.0",
                  "0.0",
                  "0.0",
                  "4.0",
                  "5.0",
                  "6.0",
                  "2.0",
                  "1.0",
                  "5.0",
                  "4.0",
                  "0.0",
                  "0.0",
                  "9.0",
                  "0.0",
                  "0.0",
                  "6.0",
                  "3.0",
                  "0.0",
                  "0.0",
                  "0.0",
                  "0.0",
                  "0.0",
                  "0.0",
                  "0.0",
                  "0.0",
                  "0.0",
                  "0.0",
                  "0.0",
                  "0.0",
                  "0.0",
                  "0.0",
                  "0.0",
                  "6.0",
                  "0.0",
                  "0.0",
                  null,
                  "0.0",
                  "0.0",
                  "0.0",
                  "0.0",
                  "0.0",
                  "0.0",
                  "0.0",
                  "0.0",
                  null,
                  "0.0",
                  "0.0",
                  "0.0",
                  "0.0",
                  "0.0",
                  "0.0",
                  "0.0",
                  "0.0",
                  "1.0",
                  "0.0",
                  "0.0",
                  "0.0",
                  "0.0",
                  "0.0",
                  "0.0",
                  "Large family farms",
                  "30-40 years",
                  "Farmers",
                  "1 - 10%",
                  "37 - 49%",
                  "1 - 10%",
                  "37 - 49%",
                  "f 0",
                  "f 0",
                  "f 0"
                ],
                [
                  "4",
                  "23.0",
                  "1.0",
                  "2.0",
                  "1.0",
                  "5.0",
                  "0.0",
                  "5.0",
                  "0.0",
                  "5.0",
                  "0.0",
                  "6.0",
                  "3.0",
                  "3.0",
                  "5.0",
                  "2.0",
                  "0.0",
                  "5.0",
                  "4.0",
                  "2.0",
                  "0.0",
                  "0.0",
                  "4.0",
                  "2.0",
                  "2.0",
                  "2.0",
                  "2.0",
                  "2.0",
                  "4.0",
                  "2.0",
                  "9.0",
                  "0.0",
                  "5.0",
                  "3.0",
                  "3.0",
                  "9.0",
                  "0.0",
                  "5.0",
                  "2.0",
                  "3.0",
                  "0.0",
                  "0.0",
                  "3.0",
                  "3.0",
                  "0.0",
                  "0.0",
                  "0.0",
                  "6.0",
                  "0.0",
                  "0.0",
                  "0.0",
                  "0.0",
                  "0.0",
                  "0.0",
                  "0.0",
                  "0.0",
                  "0.0",
                  "0.0",
                  "0.0",
                  "0.0",
                  "0.0",
                  "0.0",
                  "0.0",
                  "0.0",
                  "0.0",
                  "0.0",
                  "0.0",
                  "0.0",
                  "1.0",
                  "0.0",
                  "0.0",
                  "0.0",
                  "0.0",
                  "0.0",
                  "0.0",
                  "0.0",
                  "0.0",
                  "0.0",
                  "0.0",
                  "0.0",
                  "0.0",
                  "0.0",
                  "0.0",
                  "0.0",
                  "0.0",
                  "0.0",
                  "0.0",
                  "Young and rising",
                  "20-30 years",
                  "Living well",
                  "0%",
                  "50 - 62%",
                  "0%",
                  "50 - 62%",
                  "f 0",
                  "f 0",
                  "f 0"
                ]
              ],
              "shape": {
                "columns": 96,
                "rows": 5
              }
            },
            "text/html": [
              "<div>\n",
              "<style scoped>\n",
              "    .dataframe tbody tr th:only-of-type {\n",
              "        vertical-align: middle;\n",
              "    }\n",
              "\n",
              "    .dataframe tbody tr th {\n",
              "        vertical-align: top;\n",
              "    }\n",
              "\n",
              "    .dataframe thead th {\n",
              "        text-align: right;\n",
              "    }\n",
              "</style>\n",
              "<table border=\"1\" class=\"dataframe\">\n",
              "  <thead>\n",
              "    <tr style=\"text-align: right;\">\n",
              "      <th></th>\n",
              "      <th>mostype</th>\n",
              "      <th>maanthui</th>\n",
              "      <th>mgemomv</th>\n",
              "      <th>mgemleef</th>\n",
              "      <th>moshoofd</th>\n",
              "      <th>mgodrk</th>\n",
              "      <th>mgodpr</th>\n",
              "      <th>mgodov</th>\n",
              "      <th>mgodge</th>\n",
              "      <th>mrelge</th>\n",
              "      <th>...</th>\n",
              "      <th>mostype_label</th>\n",
              "      <th>mgemleef_label</th>\n",
              "      <th>moshoofd_label</th>\n",
              "      <th>mgodrk_label</th>\n",
              "      <th>mgodpr_label</th>\n",
              "      <th>mgodov_label</th>\n",
              "      <th>mgodge_label</th>\n",
              "      <th>pwapart_label</th>\n",
              "      <th>pwabedr_label</th>\n",
              "      <th>pwaland_label</th>\n",
              "    </tr>\n",
              "  </thead>\n",
              "  <tbody>\n",
              "    <tr>\n",
              "      <th>0</th>\n",
              "      <td>37.0</td>\n",
              "      <td>1.0</td>\n",
              "      <td>2.0</td>\n",
              "      <td>2.0</td>\n",
              "      <td>8.0</td>\n",
              "      <td>1.0</td>\n",
              "      <td>4.0</td>\n",
              "      <td>NaN</td>\n",
              "      <td>4.0</td>\n",
              "      <td>6.0</td>\n",
              "      <td>...</td>\n",
              "      <td>Mixed small town dwellers</td>\n",
              "      <td>30-40 years</td>\n",
              "      <td>Family with grown ups</td>\n",
              "      <td>1 - 10%</td>\n",
              "      <td>37 - 49%</td>\n",
              "      <td>NaN</td>\n",
              "      <td>37 - 49%</td>\n",
              "      <td>f 50 – 99</td>\n",
              "      <td>f 0</td>\n",
              "      <td>f 0</td>\n",
              "    </tr>\n",
              "    <tr>\n",
              "      <th>1</th>\n",
              "      <td>37.0</td>\n",
              "      <td>1.0</td>\n",
              "      <td>2.0</td>\n",
              "      <td>2.0</td>\n",
              "      <td>8.0</td>\n",
              "      <td>0.0</td>\n",
              "      <td>4.0</td>\n",
              "      <td>2.0</td>\n",
              "      <td>4.0</td>\n",
              "      <td>3.0</td>\n",
              "      <td>...</td>\n",
              "      <td>Mixed small town dwellers</td>\n",
              "      <td>30-40 years</td>\n",
              "      <td>Family with grown ups</td>\n",
              "      <td>0%</td>\n",
              "      <td>37 - 49%</td>\n",
              "      <td>11 - 23%</td>\n",
              "      <td>37 - 49%</td>\n",
              "      <td>f 50 – 99</td>\n",
              "      <td>f 0</td>\n",
              "      <td>f 0</td>\n",
              "    </tr>\n",
              "    <tr>\n",
              "      <th>2</th>\n",
              "      <td>9.0</td>\n",
              "      <td>1.0</td>\n",
              "      <td>3.0</td>\n",
              "      <td>3.0</td>\n",
              "      <td>3.0</td>\n",
              "      <td>2.0</td>\n",
              "      <td>3.0</td>\n",
              "      <td>2.0</td>\n",
              "      <td>4.0</td>\n",
              "      <td>5.0</td>\n",
              "      <td>...</td>\n",
              "      <td>Modern, complete families</td>\n",
              "      <td>40-50 years</td>\n",
              "      <td>Average Family</td>\n",
              "      <td>11 - 23%</td>\n",
              "      <td>24 - 36%</td>\n",
              "      <td>11 - 23%</td>\n",
              "      <td>37 - 49%</td>\n",
              "      <td>f 0</td>\n",
              "      <td>f 0</td>\n",
              "      <td>f 0</td>\n",
              "    </tr>\n",
              "    <tr>\n",
              "      <th>3</th>\n",
              "      <td>40.0</td>\n",
              "      <td>1.0</td>\n",
              "      <td>4.0</td>\n",
              "      <td>2.0</td>\n",
              "      <td>10.0</td>\n",
              "      <td>1.0</td>\n",
              "      <td>4.0</td>\n",
              "      <td>1.0</td>\n",
              "      <td>4.0</td>\n",
              "      <td>7.0</td>\n",
              "      <td>...</td>\n",
              "      <td>Large family farms</td>\n",
              "      <td>30-40 years</td>\n",
              "      <td>Farmers</td>\n",
              "      <td>1 - 10%</td>\n",
              "      <td>37 - 49%</td>\n",
              "      <td>1 - 10%</td>\n",
              "      <td>37 - 49%</td>\n",
              "      <td>f 0</td>\n",
              "      <td>f 0</td>\n",
              "      <td>f 0</td>\n",
              "    </tr>\n",
              "    <tr>\n",
              "      <th>4</th>\n",
              "      <td>23.0</td>\n",
              "      <td>1.0</td>\n",
              "      <td>2.0</td>\n",
              "      <td>1.0</td>\n",
              "      <td>5.0</td>\n",
              "      <td>0.0</td>\n",
              "      <td>5.0</td>\n",
              "      <td>0.0</td>\n",
              "      <td>5.0</td>\n",
              "      <td>0.0</td>\n",
              "      <td>...</td>\n",
              "      <td>Young and rising</td>\n",
              "      <td>20-30 years</td>\n",
              "      <td>Living well</td>\n",
              "      <td>0%</td>\n",
              "      <td>50 - 62%</td>\n",
              "      <td>0%</td>\n",
              "      <td>50 - 62%</td>\n",
              "      <td>f 0</td>\n",
              "      <td>f 0</td>\n",
              "      <td>f 0</td>\n",
              "    </tr>\n",
              "  </tbody>\n",
              "</table>\n",
              "<p>5 rows × 96 columns</p>\n",
              "</div>"
            ],
            "text/plain": [
              "   mostype  maanthui  mgemomv  mgemleef  moshoofd  mgodrk  mgodpr  mgodov  \\\n",
              "0     37.0       1.0      2.0       2.0       8.0     1.0     4.0     NaN   \n",
              "1     37.0       1.0      2.0       2.0       8.0     0.0     4.0     2.0   \n",
              "2      9.0       1.0      3.0       3.0       3.0     2.0     3.0     2.0   \n",
              "3     40.0       1.0      4.0       2.0      10.0     1.0     4.0     1.0   \n",
              "4     23.0       1.0      2.0       1.0       5.0     0.0     5.0     0.0   \n",
              "\n",
              "   mgodge  mrelge  ...              mostype_label  mgemleef_label  \\\n",
              "0     4.0     6.0  ...  Mixed small town dwellers     30-40 years   \n",
              "1     4.0     3.0  ...  Mixed small town dwellers     30-40 years   \n",
              "2     4.0     5.0  ...  Modern, complete families     40-50 years   \n",
              "3     4.0     7.0  ...         Large family farms     30-40 years   \n",
              "4     5.0     0.0  ...           Young and rising     20-30 years   \n",
              "\n",
              "          moshoofd_label  mgodrk_label  mgodpr_label  mgodov_label  \\\n",
              "0  Family with grown ups       1 - 10%      37 - 49%           NaN   \n",
              "1  Family with grown ups            0%      37 - 49%      11 - 23%   \n",
              "2         Average Family      11 - 23%      24 - 36%      11 - 23%   \n",
              "3                Farmers       1 - 10%      37 - 49%       1 - 10%   \n",
              "4            Living well            0%      50 - 62%            0%   \n",
              "\n",
              "   mgodge_label  pwapart_label  pwabedr_label  pwaland_label  \n",
              "0      37 - 49%      f 50 – 99            f 0            f 0  \n",
              "1      37 - 49%      f 50 – 99            f 0            f 0  \n",
              "2      37 - 49%            f 0            f 0            f 0  \n",
              "3      37 - 49%            f 0            f 0            f 0  \n",
              "4      50 - 62%            f 0            f 0            f 0  \n",
              "\n",
              "[5 rows x 96 columns]"
            ]
          },
          "execution_count": 3,
          "metadata": {},
          "output_type": "execute_result"
        }
      ],
      "source": [
        "MISSING_TOKENS = {\n",
        "    '', ' ', 'na', 'n/a', 'nan', 'none', 'null', '?', 'unknown', 'missing', 'invalid', 'bad', '--'\n",
        "}\n",
        "\n",
        "def load_raw_dataframe(path: Path) -> pd.DataFrame:\n",
        "    return pd.read_csv(path, low_memory=False, keep_default_na=False)\n",
        "\n",
        "\n",
        "def slugify(name: str) -> str:\n",
        "    name = re.sub(r\"[^\\w]+\", '_', name.strip().lower())\n",
        "    name = re.sub(r\"_+\", '_', name).strip('_')\n",
        "    if not name:\n",
        "        name = 'col'\n",
        "    if name[0].isdigit():\n",
        "        name = f'col_{name}'\n",
        "    return name\n",
        "\n",
        "\n",
        "def normalize_columns(df: pd.DataFrame) -> pd.DataFrame:\n",
        "    df = df.copy()\n",
        "    seen = {}\n",
        "    new_cols = []\n",
        "    for col in df.columns:\n",
        "        base = slugify(str(col))\n",
        "        count = seen.get(base, 0)\n",
        "        if count:\n",
        "            new_cols.append(f\"{base}_{count}\")\n",
        "        else:\n",
        "            new_cols.append(base)\n",
        "        seen[base] = count + 1\n",
        "    df.columns = new_cols\n",
        "    return df\n",
        "\n",
        "\n",
        "def standardize_missing(df: pd.DataFrame) -> pd.DataFrame:\n",
        "    df = df.copy()\n",
        "    tokens = {t.lower() for t in MISSING_TOKENS}\n",
        "    for col in df.columns:\n",
        "        if pd.api.types.is_object_dtype(df[col]):\n",
        "            series = df[col].astype(str)\n",
        "            mask = series.str.strip().str.lower().isin(tokens)\n",
        "            df[col] = series.where(~mask).replace({'': np.nan})\n",
        "    return df\n",
        "\n",
        "\n",
        "def coerce_numeric(df: pd.DataFrame, numeric_like_ratio: float = 0.8):\n",
        "    df = df.copy()\n",
        "    numeric_cols = []\n",
        "    for col in df.columns:\n",
        "        if pd.api.types.is_numeric_dtype(df[col]):\n",
        "            numeric_cols.append(col)\n",
        "            continue\n",
        "        if not pd.api.types.is_object_dtype(df[col]):\n",
        "            continue\n",
        "        coerced = pd.to_numeric(df[col], errors='coerce')\n",
        "        non_na = coerced.notna().sum()\n",
        "        if non_na == 0:\n",
        "            continue\n",
        "        ratio = non_na / len(df)\n",
        "        if ratio >= numeric_like_ratio:\n",
        "            df[col] = coerced\n",
        "            numeric_cols.append(col)\n",
        "    return df, numeric_cols\n",
        "\n",
        "\n",
        "def mask_outliers(df: pd.DataFrame, threshold: float = 4.0):\n",
        "    df = df.copy()\n",
        "    masked_cols = []\n",
        "    for col in df.select_dtypes(include=[np.number]).columns:\n",
        "        series = df[col]\n",
        "        std = series.std(skipna=True)\n",
        "        mean = series.mean(skipna=True)\n",
        "        if std and std > 0:\n",
        "            z = (series - mean) / std\n",
        "            mask = z.abs() > threshold\n",
        "            if mask.any():\n",
        "                df.loc[mask, col] = np.nan\n",
        "                masked_cols.append(col)\n",
        "    return df, masked_cols\n",
        "\n",
        "\n",
        "def drop_sparse(df: pd.DataFrame, thresh: float = 0.95):\n",
        "    if thresh >= 1:\n",
        "        return df, []\n",
        "    df = df.copy()\n",
        "    ratios = df.isna().mean()\n",
        "    to_drop = ratios[ratios > thresh].index.tolist()\n",
        "    df = df.drop(columns=to_drop)\n",
        "    return df, to_drop\n",
        "\n",
        "\n",
        "def clean_dataframe(df: pd.DataFrame, drop_na_thresh: float, outlier_z: float, numeric_like_ratio: float = 0.8):\n",
        "    steps = {}\n",
        "    df1 = normalize_columns(df)\n",
        "    df2 = standardize_missing(df1)\n",
        "    df3, numeric_cols = coerce_numeric(df2, numeric_like_ratio=numeric_like_ratio)\n",
        "    steps['numeric_columns'] = numeric_cols\n",
        "\n",
        "    if outlier_z is not None:\n",
        "        df4, masked = mask_outliers(df3, threshold=outlier_z)\n",
        "        steps['outlier_masked_cols'] = masked\n",
        "    else:\n",
        "        df4 = df3\n",
        "        steps['outlier_masked_cols'] = []\n",
        "\n",
        "    df5, dropped = drop_sparse(df4, drop_na_thresh)\n",
        "    steps['dropped_columns'] = dropped\n",
        "\n",
        "    return df5, steps\n",
        "\n",
        "\n",
        "df_raw = load_raw_dataframe(raw_path)\n",
        "df_clean, summary = clean_dataframe(\n",
        "    df_raw,\n",
        "    drop_na_thresh=params['clean']['drop_na_thresh'],\n",
        "    outlier_z=params['clean']['outlier_z'],\n",
        "    numeric_like_ratio=0.8,\n",
        ")\n",
        "print(df_raw.shape, '→', df_clean.shape)\n",
        "df_clean.head()\n"
      ]
    },
    {
      "cell_type": "markdown",
      "id": "45c14362",
      "metadata": {},
      "source": [
        "### Resumen de operaciones\n",
        "La propiedad `report_` del limpiador nos permite auditar qué se modificó.\n"
      ]
    },
    {
      "cell_type": "code",
      "execution_count": 4,
      "id": "34f84733",
      "metadata": {},
      "outputs": [
        {
          "data": {
            "application/vnd.microsoft.datawrangler.viewer.v0+json": {
              "columns": [
                {
                  "name": "index",
                  "rawType": "object",
                  "type": "string"
                },
                {
                  "name": "0",
                  "rawType": "int64",
                  "type": "integer"
                }
              ],
              "ref": "6e82396d-c2d3-4a78-84e1-b7cbfec33828",
              "rows": [
                [
                  "numeric_columns",
                  "86"
                ],
                [
                  "outlier_masked_cols",
                  "86"
                ],
                [
                  "dropped_columns",
                  "0"
                ]
              ],
              "shape": {
                "columns": 1,
                "rows": 3
              }
            },
            "text/plain": [
              "numeric_columns        86\n",
              "outlier_masked_cols    86\n",
              "dropped_columns         0\n",
              "dtype: int64"
            ]
          },
          "execution_count": 4,
          "metadata": {},
          "output_type": "execute_result"
        }
      ],
      "source": [
        "import pandas as pd\n",
        "pd.Series({k: len(v) if isinstance(v, (list, tuple)) else v for k, v in summary.items()})\n"
      ]
    },
    {
      "cell_type": "markdown",
      "id": "70b51558",
      "metadata": {},
      "source": [
        "### Métricas clave\n",
        "Revisamos distribución de NA y estadísticas básicas después de limpiar.\n"
      ]
    },
    {
      "cell_type": "code",
      "execution_count": 5,
      "id": "d6949458",
      "metadata": {},
      "outputs": [
        {
          "data": {
            "application/vnd.microsoft.datawrangler.viewer.v0+json": {
              "columns": [
                {
                  "name": "index",
                  "rawType": "object",
                  "type": "string"
                },
                {
                  "name": "0",
                  "rawType": "float64",
                  "type": "float"
                }
              ],
              "ref": "f81e326a-5940-4f03-a0a4-fee16f499b16",
              "rows": [
                [
                  "mgemleef_label",
                  "0.027960249284150245"
                ],
                [
                  "mostype_label",
                  "0.02745494357419572"
                ],
                [
                  "mgodpr_label",
                  "0.026444332154286678"
                ],
                [
                  "pbrand",
                  "0.025265285497726123"
                ],
                [
                  "pwapart_label",
                  "0.024759979787771603"
                ],
                [
                  "mfgekind",
                  "0.024591544551120094"
                ],
                [
                  "mgodpr",
                  "0.024591544551120094"
                ],
                [
                  "mink3045",
                  "0.024591544551120094"
                ],
                [
                  "mbermidd",
                  "0.02442310931446859"
                ],
                [
                  "moshoofd_label",
                  "0.02425467407781708"
                ]
              ],
              "shape": {
                "columns": 1,
                "rows": 10
              }
            },
            "text/plain": [
              "mgemleef_label    0.027960\n",
              "mostype_label     0.027455\n",
              "mgodpr_label      0.026444\n",
              "pbrand            0.025265\n",
              "pwapart_label     0.024760\n",
              "mfgekind          0.024592\n",
              "mgodpr            0.024592\n",
              "mink3045          0.024592\n",
              "mbermidd          0.024423\n",
              "moshoofd_label    0.024255\n",
              "dtype: float64"
            ]
          },
          "execution_count": 5,
          "metadata": {},
          "output_type": "execute_result"
        }
      ],
      "source": [
        "missing = df_clean.isna().mean().sort_values(ascending=False)\n",
        "missing.head(10)\n"
      ]
    },
    {
      "cell_type": "code",
      "execution_count": 6,
      "id": "50f2f1a4",
      "metadata": {},
      "outputs": [
        {
          "data": {
            "application/vnd.microsoft.datawrangler.viewer.v0+json": {
              "columns": [
                {
                  "name": "index",
                  "rawType": "object",
                  "type": "string"
                },
                {
                  "name": "count",
                  "rawType": "float64",
                  "type": "float"
                },
                {
                  "name": "mean",
                  "rawType": "float64",
                  "type": "float"
                },
                {
                  "name": "std",
                  "rawType": "float64",
                  "type": "float"
                },
                {
                  "name": "min",
                  "rawType": "float64",
                  "type": "float"
                },
                {
                  "name": "25%",
                  "rawType": "float64",
                  "type": "float"
                },
                {
                  "name": "50%",
                  "rawType": "float64",
                  "type": "float"
                },
                {
                  "name": "75%",
                  "rawType": "float64",
                  "type": "float"
                },
                {
                  "name": "max",
                  "rawType": "float64",
                  "type": "float"
                }
              ],
              "ref": "31564a90-365c-4cbb-adad-331de4dd60fe",
              "rows": [
                [
                  "mostype",
                  "5801.0",
                  "25.552835717979658",
                  "24.954089070808994",
                  "1.0",
                  "10.0",
                  "30.0",
                  "35.0",
                  "523.0"
                ],
                [
                  "maanthui",
                  "5815.0",
                  "1.6835769561478935",
                  "7.453880462712698",
                  "1.0",
                  "1.0",
                  "1.0",
                  "1.0",
                  "194.0"
                ],
                [
                  "mgemomv",
                  "5817.0",
                  "3.2520199415506275",
                  "8.635585611434935",
                  "1.0",
                  "2.0",
                  "3.0",
                  "3.0",
                  "188.0"
                ],
                [
                  "mgemleef",
                  "5802.0",
                  "3.639434677697346",
                  "9.600588398348737",
                  "1.0",
                  "2.0",
                  "3.0",
                  "3.0",
                  "210.0"
                ],
                [
                  "moshoofd",
                  "5808.0",
                  "6.029958677685951",
                  "6.235557270795382",
                  "1.0",
                  "3.0",
                  "7.0",
                  "8.0",
                  "215.0"
                ],
                [
                  "mgodrk",
                  "5819.0",
                  "0.7862175631551813",
                  "3.0540016141376243",
                  "0.0",
                  "0.0",
                  "0.0",
                  "1.0",
                  "145.0"
                ],
                [
                  "mgodpr",
                  "5791.0",
                  "4.873596960801243",
                  "6.275971571535327",
                  "0.0",
                  "4.0",
                  "5.0",
                  "6.0",
                  "198.0"
                ],
                [
                  "mgodov",
                  "5825.0",
                  "1.3656652360515023",
                  "5.744519800188221",
                  "0.0",
                  "0.0",
                  "1.0",
                  "2.0",
                  "164.0"
                ],
                [
                  "mgodge",
                  "5827.0",
                  "3.4588982323665696",
                  "5.241783758079837",
                  "0.0",
                  "2.0",
                  "3.0",
                  "4.0",
                  "169.0"
                ],
                [
                  "mrelge",
                  "5802.0",
                  "6.442433643571182",
                  "6.604565460555584",
                  "0.0",
                  "5.0",
                  "6.0",
                  "7.0",
                  "196.0"
                ],
                [
                  "mrelsa",
                  "5819.0",
                  "1.191098126825915",
                  "6.217269040469693",
                  "0.0",
                  "0.0",
                  "1.0",
                  "1.0",
                  "171.0"
                ],
                [
                  "mrelov",
                  "5812.0",
                  "2.4698898830006883",
                  "4.555471420607226",
                  "0.0",
                  "1.0",
                  "2.0",
                  "3.0",
                  "160.0"
                ]
              ],
              "shape": {
                "columns": 8,
                "rows": 12
              }
            },
            "text/html": [
              "<div>\n",
              "<style scoped>\n",
              "    .dataframe tbody tr th:only-of-type {\n",
              "        vertical-align: middle;\n",
              "    }\n",
              "\n",
              "    .dataframe tbody tr th {\n",
              "        vertical-align: top;\n",
              "    }\n",
              "\n",
              "    .dataframe thead th {\n",
              "        text-align: right;\n",
              "    }\n",
              "</style>\n",
              "<table border=\"1\" class=\"dataframe\">\n",
              "  <thead>\n",
              "    <tr style=\"text-align: right;\">\n",
              "      <th></th>\n",
              "      <th>count</th>\n",
              "      <th>mean</th>\n",
              "      <th>std</th>\n",
              "      <th>min</th>\n",
              "      <th>25%</th>\n",
              "      <th>50%</th>\n",
              "      <th>75%</th>\n",
              "      <th>max</th>\n",
              "    </tr>\n",
              "  </thead>\n",
              "  <tbody>\n",
              "    <tr>\n",
              "      <th>mostype</th>\n",
              "      <td>5801.0</td>\n",
              "      <td>25.552836</td>\n",
              "      <td>24.954089</td>\n",
              "      <td>1.0</td>\n",
              "      <td>10.0</td>\n",
              "      <td>30.0</td>\n",
              "      <td>35.0</td>\n",
              "      <td>523.0</td>\n",
              "    </tr>\n",
              "    <tr>\n",
              "      <th>maanthui</th>\n",
              "      <td>5815.0</td>\n",
              "      <td>1.683577</td>\n",
              "      <td>7.453880</td>\n",
              "      <td>1.0</td>\n",
              "      <td>1.0</td>\n",
              "      <td>1.0</td>\n",
              "      <td>1.0</td>\n",
              "      <td>194.0</td>\n",
              "    </tr>\n",
              "    <tr>\n",
              "      <th>mgemomv</th>\n",
              "      <td>5817.0</td>\n",
              "      <td>3.252020</td>\n",
              "      <td>8.635586</td>\n",
              "      <td>1.0</td>\n",
              "      <td>2.0</td>\n",
              "      <td>3.0</td>\n",
              "      <td>3.0</td>\n",
              "      <td>188.0</td>\n",
              "    </tr>\n",
              "    <tr>\n",
              "      <th>mgemleef</th>\n",
              "      <td>5802.0</td>\n",
              "      <td>3.639435</td>\n",
              "      <td>9.600588</td>\n",
              "      <td>1.0</td>\n",
              "      <td>2.0</td>\n",
              "      <td>3.0</td>\n",
              "      <td>3.0</td>\n",
              "      <td>210.0</td>\n",
              "    </tr>\n",
              "    <tr>\n",
              "      <th>moshoofd</th>\n",
              "      <td>5808.0</td>\n",
              "      <td>6.029959</td>\n",
              "      <td>6.235557</td>\n",
              "      <td>1.0</td>\n",
              "      <td>3.0</td>\n",
              "      <td>7.0</td>\n",
              "      <td>8.0</td>\n",
              "      <td>215.0</td>\n",
              "    </tr>\n",
              "    <tr>\n",
              "      <th>mgodrk</th>\n",
              "      <td>5819.0</td>\n",
              "      <td>0.786218</td>\n",
              "      <td>3.054002</td>\n",
              "      <td>0.0</td>\n",
              "      <td>0.0</td>\n",
              "      <td>0.0</td>\n",
              "      <td>1.0</td>\n",
              "      <td>145.0</td>\n",
              "    </tr>\n",
              "    <tr>\n",
              "      <th>mgodpr</th>\n",
              "      <td>5791.0</td>\n",
              "      <td>4.873597</td>\n",
              "      <td>6.275972</td>\n",
              "      <td>0.0</td>\n",
              "      <td>4.0</td>\n",
              "      <td>5.0</td>\n",
              "      <td>6.0</td>\n",
              "      <td>198.0</td>\n",
              "    </tr>\n",
              "    <tr>\n",
              "      <th>mgodov</th>\n",
              "      <td>5825.0</td>\n",
              "      <td>1.365665</td>\n",
              "      <td>5.744520</td>\n",
              "      <td>0.0</td>\n",
              "      <td>0.0</td>\n",
              "      <td>1.0</td>\n",
              "      <td>2.0</td>\n",
              "      <td>164.0</td>\n",
              "    </tr>\n",
              "    <tr>\n",
              "      <th>mgodge</th>\n",
              "      <td>5827.0</td>\n",
              "      <td>3.458898</td>\n",
              "      <td>5.241784</td>\n",
              "      <td>0.0</td>\n",
              "      <td>2.0</td>\n",
              "      <td>3.0</td>\n",
              "      <td>4.0</td>\n",
              "      <td>169.0</td>\n",
              "    </tr>\n",
              "    <tr>\n",
              "      <th>mrelge</th>\n",
              "      <td>5802.0</td>\n",
              "      <td>6.442434</td>\n",
              "      <td>6.604565</td>\n",
              "      <td>0.0</td>\n",
              "      <td>5.0</td>\n",
              "      <td>6.0</td>\n",
              "      <td>7.0</td>\n",
              "      <td>196.0</td>\n",
              "    </tr>\n",
              "    <tr>\n",
              "      <th>mrelsa</th>\n",
              "      <td>5819.0</td>\n",
              "      <td>1.191098</td>\n",
              "      <td>6.217269</td>\n",
              "      <td>0.0</td>\n",
              "      <td>0.0</td>\n",
              "      <td>1.0</td>\n",
              "      <td>1.0</td>\n",
              "      <td>171.0</td>\n",
              "    </tr>\n",
              "    <tr>\n",
              "      <th>mrelov</th>\n",
              "      <td>5812.0</td>\n",
              "      <td>2.469890</td>\n",
              "      <td>4.555471</td>\n",
              "      <td>0.0</td>\n",
              "      <td>1.0</td>\n",
              "      <td>2.0</td>\n",
              "      <td>3.0</td>\n",
              "      <td>160.0</td>\n",
              "    </tr>\n",
              "  </tbody>\n",
              "</table>\n",
              "</div>"
            ],
            "text/plain": [
              "           count       mean        std  min   25%   50%   75%    max\n",
              "mostype   5801.0  25.552836  24.954089  1.0  10.0  30.0  35.0  523.0\n",
              "maanthui  5815.0   1.683577   7.453880  1.0   1.0   1.0   1.0  194.0\n",
              "mgemomv   5817.0   3.252020   8.635586  1.0   2.0   3.0   3.0  188.0\n",
              "mgemleef  5802.0   3.639435   9.600588  1.0   2.0   3.0   3.0  210.0\n",
              "moshoofd  5808.0   6.029959   6.235557  1.0   3.0   7.0   8.0  215.0\n",
              "mgodrk    5819.0   0.786218   3.054002  0.0   0.0   0.0   1.0  145.0\n",
              "mgodpr    5791.0   4.873597   6.275972  0.0   4.0   5.0   6.0  198.0\n",
              "mgodov    5825.0   1.365665   5.744520  0.0   0.0   1.0   2.0  164.0\n",
              "mgodge    5827.0   3.458898   5.241784  0.0   2.0   3.0   4.0  169.0\n",
              "mrelge    5802.0   6.442434   6.604565  0.0   5.0   6.0   7.0  196.0\n",
              "mrelsa    5819.0   1.191098   6.217269  0.0   0.0   1.0   1.0  171.0\n",
              "mrelov    5812.0   2.469890   4.555471  0.0   1.0   2.0   3.0  160.0"
            ]
          },
          "execution_count": 6,
          "metadata": {},
          "output_type": "execute_result"
        }
      ],
      "source": [
        "numeric_cols = df_clean.select_dtypes(include='number').columns.tolist()\n",
        "df_clean[numeric_cols].describe().T.head(12)\n"
      ]
    },
    {
      "cell_type": "markdown",
      "id": "807569e4",
      "metadata": {},
      "source": [
        "## Persistencia\n",
        "Guardamos el dataset limpio para reutilizarlo en modelado y trazabilidad de DVC.\n"
      ]
    },
    {
      "cell_type": "code",
      "execution_count": 7,
      "id": "5add3f0a",
      "metadata": {},
      "outputs": [
        {
          "name": "stdout",
          "output_type": "stream",
          "text": [
            "Dataset guardado en /Users/jfts/Documents/ML_OPS_PROYECT/mlops_proyect/data/interim/data_clean.parquet\n"
          ]
        }
      ],
      "source": [
        "if interim_path.suffix == '.parquet':\n",
        "    df_clean.to_parquet(interim_path, index=False)\n",
        "else:\n",
        "    df_clean.to_csv(interim_path, index=False)\n",
        "print('Dataset guardado en', interim_path)\n"
      ]
    },
    {
      "cell_type": "markdown",
      "id": "687001c3",
      "metadata": {},
      "source": [
        "> **Notas**: ajusta los parámetros en `config/params.yaml` o las funciones de este cuaderno si necesitas reglas adicionales (nuevos tokens nulos, umbrales de outliers, etc.).\n"
      ]
    }
  ],
  "metadata": {
    "kernelspec": {
      "display_name": "venv",
      "language": "python",
      "name": "python3"
    },
    "language_info": {
      "codemirror_mode": {
        "name": "ipython",
        "version": 3
      },
      "file_extension": ".py",
      "mimetype": "text/x-python",
      "name": "python",
      "nbconvert_exporter": "python",
      "pygments_lexer": "ipython3",
      "version": "3.9.6"
    }
  },
  "nbformat": 4,
  "nbformat_minor": 5
}
